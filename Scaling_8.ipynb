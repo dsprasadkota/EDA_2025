{
 "cells": [
  {
   "cell_type": "code",
   "execution_count": 1,
   "id": "cf51123e-e2af-4fd1-bbf3-0db413d9c3e2",
   "metadata": {},
   "outputs": [],
   "source": [
    "import pandas as pd\n",
    "import numpy as np\n",
    "import matplotlib.pyplot as plt\n",
    "import seaborn as sns\n",
    "\n",
    "file_path=r'C:\\Users\\dspra\\Downloads\\visadataset.csv'\n",
    "visa_df=pd.read_csv(file_path)\n",
    "\n",
    "cat=visa_df.select_dtypes(include='object').columns\n",
    "num=visa_df.select_dtypes(exclude='object').columns"
   ]
  },
  {
   "cell_type": "markdown",
   "id": "b0fcde37-ab00-4744-9959-16a4e8a49c01",
   "metadata": {},
   "source": [
    "- Scaling is the one of most important step before model development\n",
    "\n",
    "- Scaling means makes all the columns under one scale\n",
    "\n",
    "- Scaling used to make all the columns or features are comparable\n",
    "\n",
    "- some ML models works on distance methods\n",
    "\n",
    "     - Example age:   min:0 | max:100\n",
    " \n",
    "     - Income might be lakhs crocres so much bigger values\n",
    " \n",
    "     - If we don't make age and income under one scale ML model treates Income is the important variable\n",
    " \n",
    "     - when values are huge maths makes more complex so it is better to do lower down the values\n",
    " \n",
    "     - All the features under one scale so easy to compare\n",
    " \n",
    "          - Dollors and Rupees we can not compare because two are different scales"
   ]
  },
  {
   "cell_type": "markdown",
   "id": "d728d9f6-4a7a-4249-bd17-afe40dc1d563",
   "metadata": {},
   "source": [
    "**Standard Scalar**\n",
    "\n",
    "- Z scale makes mean=0 and standard deviation always =1\n",
    "\n",
    "  <img src=\"https://www.simplypsychology.org/wp-content/uploads/Z-score-formula.jpg\" jsaction=\"\" class=\"sFlh5c FyHeAf iPVvYb\" style=\"max-width: 435px; height: 251px; margin: 0px; width: 307px;\" alt=\"Z-Score: Definition, Formula, Calculation &amp; Interpretation\" jsname=\"kn3ccd\">"
   ]
  },
  {
   "cell_type": "code",
   "execution_count": null,
   "id": "e662b79d-e617-4e74-be52-f8a1767fc178",
   "metadata": {},
   "outputs": [],
   "source": [
    "# step-1:  x=prevailawage data\n",
    "# step-2: mean= mean of prevailange data\n",
    "# step-3: sd=sd of prevailawage data\n",
    "# step-4: step1-step2 =x-mean\n",
    "# step-5: step4/step3 =(x-mean)/sd"
   ]
  },
  {
   "cell_type": "code",
   "execution_count": 5,
   "id": "10aadcaa-0e9a-4bdf-bab3-5b77494d41fb",
   "metadata": {},
   "outputs": [],
   "source": [
    "x=visa_df['prevailing_wage']"
   ]
  },
  {
   "cell_type": "code",
   "execution_count": 13,
   "id": "5bbdffb7-b37a-4c4d-bdbb-3b6020e1092f",
   "metadata": {},
   "outputs": [],
   "source": [
    "x_mean=visa_df['prevailing_wage'].mean()"
   ]
  },
  {
   "cell_type": "code",
   "execution_count": 15,
   "id": "ece94ea5-48cd-45d7-baff-060def8e3b5e",
   "metadata": {},
   "outputs": [],
   "source": [
    "x_sd=visa_df['prevailing_wage'].std()"
   ]
  },
  {
   "cell_type": "code",
   "execution_count": 17,
   "id": "87a39b40-5543-4abb-a006-5222acef3a39",
   "metadata": {},
   "outputs": [],
   "source": [
    "wage_z=(x-x_mean)/x_sd"
   ]
  },
  {
   "cell_type": "code",
   "execution_count": 19,
   "id": "1f1959a9-0443-4d6d-a801-58a5c3bd2ee9",
   "metadata": {},
   "outputs": [
    {
     "data": {
      "text/plain": [
       "(8.421660368899147e-17, 1.000000000000007)"
      ]
     },
     "execution_count": 19,
     "metadata": {},
     "output_type": "execute_result"
    }
   ],
   "source": [
    "wage_z.mean(),wage_z.std()"
   ]
  },
  {
   "cell_type": "code",
   "execution_count": 23,
   "id": "c2d593e5-c396-4210-9b62-f69a559a6bce",
   "metadata": {},
   "outputs": [
    {
     "data": {
      "image/png": "[encoded data removed]",
      "text/plain": [
       "<Figure size 640x480 with 2 Axes>"
      ]
     },
     "metadata": {},
     "output_type": "display_data"
    }
   ],
   "source": [
    "plt.subplot(1,2,1).hist(x)\n",
    "plt.subplot(1,2,2).hist(wage_z)\n",
    "plt.show()"
   ]
  },
  {
   "cell_type": "markdown",
   "id": "d4345276-147b-430c-84ea-a88117241167",
   "metadata": {},
   "source": [
    "**Package: sklearn**\n",
    "\n",
    "   - preprocessing\n",
    "    \n",
    "       - StandardScalar"
   ]
  },
  {
   "cell_type": "code",
   "execution_count": 15,
   "id": "3e2bff7c-c9aa-4094-8507-40bb9d99e5c2",
   "metadata": {},
   "outputs": [
    {
     "data": {
      "text/html": [
       "<div>\n",
       "<style scoped>\n",
       "    .dataframe tbody tr th:only-of-type {\n",
       "        vertical-align: middle;\n",
       "    }\n",
       "\n",
       "    .dataframe tbody tr th {\n",
       "        vertical-align: top;\n",
       "    }\n",
       "\n",
       "    .dataframe thead th {\n",
       "        text-align: right;\n",
       "    }\n",
       "</style>\n",
       "<table border=\"1\" class=\"dataframe\">\n",
       "  <thead>\n",
       "    <tr style=\"text-align: right;\">\n",
       "      <th></th>\n",
       "      <th>prevailing_wage</th>\n",
       "    </tr>\n",
       "  </thead>\n",
       "  <tbody>\n",
       "    <tr>\n",
       "      <th>0</th>\n",
       "      <td>592.2029</td>\n",
       "    </tr>\n",
       "    <tr>\n",
       "      <th>1</th>\n",
       "      <td>83425.6500</td>\n",
       "    </tr>\n",
       "    <tr>\n",
       "      <th>2</th>\n",
       "      <td>122996.8600</td>\n",
       "    </tr>\n",
       "    <tr>\n",
       "      <th>3</th>\n",
       "      <td>83434.0300</td>\n",
       "    </tr>\n",
       "    <tr>\n",
       "      <th>4</th>\n",
       "      <td>149907.3900</td>\n",
       "    </tr>\n",
       "    <tr>\n",
       "      <th>...</th>\n",
       "      <td>...</td>\n",
       "    </tr>\n",
       "    <tr>\n",
       "      <th>25475</th>\n",
       "      <td>77092.5700</td>\n",
       "    </tr>\n",
       "    <tr>\n",
       "      <th>25476</th>\n",
       "      <td>279174.7900</td>\n",
       "    </tr>\n",
       "    <tr>\n",
       "      <th>25477</th>\n",
       "      <td>146298.8500</td>\n",
       "    </tr>\n",
       "    <tr>\n",
       "      <th>25478</th>\n",
       "      <td>86154.7700</td>\n",
       "    </tr>\n",
       "    <tr>\n",
       "      <th>25479</th>\n",
       "      <td>70876.9100</td>\n",
       "    </tr>\n",
       "  </tbody>\n",
       "</table>\n",
       "<p>25480 rows × 1 columns</p>\n",
       "</div>"
      ],
      "text/plain": [
       "       prevailing_wage\n",
       "0             592.2029\n",
       "1           83425.6500\n",
       "2          122996.8600\n",
       "3           83434.0300\n",
       "4          149907.3900\n",
       "...                ...\n",
       "25475       77092.5700\n",
       "25476      279174.7900\n",
       "25477      146298.8500\n",
       "25478       86154.7700\n",
       "25479       70876.9100\n",
       "\n",
       "[25480 rows x 1 columns]"
      ]
     },
     "execution_count": 15,
     "metadata": {},
     "output_type": "execute_result"
    }
   ],
   "source": [
    "wage_data=visa_df[['prevailing_wage']]\n",
    "wage_data"
   ]
  },
  {
   "cell_type": "code",
   "execution_count": 17,
   "id": "cb16a4e9-ed8d-4b4d-9768-8041409f70cf",
   "metadata": {},
   "outputs": [],
   "source": [
    "from sklearn.preprocessing import StandardScaler\n",
    "ss=StandardScaler()\n"
   ]
  },
  {
   "cell_type": "code",
   "execution_count": 19,
   "id": "f5309eed-a03a-49f3-a6cc-50ba98d84448",
   "metadata": {},
   "outputs": [],
   "source": [
    "wage_ss=ss.fit_transform(wage_data)\n"
   ]
  },
  {
   "cell_type": "code",
   "execution_count": 21,
   "id": "282b9c5a-b300-4106-ab64-4ffb80e6f867",
   "metadata": {},
   "outputs": [
    {
     "data": {
      "text/plain": [
       "(array([6038., 5504., 5681., 4551., 2334.,  624.,  373.,  240.,  114.,\n",
       "          21.]),\n",
       " array([-1.40970956, -0.80531933, -0.20092909,  0.40346114,  1.00785137,\n",
       "         1.61224161,  2.21663184,  2.82102207,  3.42541231,  4.02980254,\n",
       "         4.63419278]),\n",
       " <BarContainer object of 10 artists>)"
      ]
     },
     "execution_count": 21,
     "metadata": {},
     "output_type": "execute_result"
    },
    {
     "data": {
      "image/png": "[encoded data removed]",
      "text/plain": [
       "<Figure size 640x480 with 1 Axes>"
      ]
     },
     "metadata": {},
     "output_type": "display_data"
    }
   ],
   "source": [
    "plt.hist(wage_ss)"
   ]
  },
  {
   "cell_type": "code",
   "execution_count": null,
   "id": "cdaf0497-5e72-4422-830a-f3814fb5ddc3",
   "metadata": {},
   "outputs": [],
   "source": []
  }
 ],
 "metadata": {
  "kernelspec": {
   "display_name": "Python [conda env:base] *",
   "language": "python",
   "name": "conda-base-py"
  },
  "language_info": {
   "codemirror_mode": {
    "name": "ipython",
    "version": 3
   },
   "file_extension": ".py",
   "mimetype": "text/x-python",
   "name": "python",
   "nbconvert_exporter": "python",
   "pygments_lexer": "ipython3",
   "version": "3.12.7"
  }
 },
 "nbformat": 4,
 "nbformat_minor": 5
}
