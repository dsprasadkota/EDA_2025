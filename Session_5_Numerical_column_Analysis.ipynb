{
 "cells": [
  {
   "cell_type": "code",
   "execution_count": 3,
   "id": "7ff7bda1-e47a-480b-9865-66309600cd67",
   "metadata": {},
   "outputs": [],
   "source": [
    "import pandas as pd\n",
    "import numpy as np\n",
    "import matplotlib.pyplot as plt\n",
    "import seaborn as sns\n",
    "\n",
    "file_path=r'C:\\Users\\dspra\\Downloads\\visadataset.csv'\n",
    "visa_df=pd.read_csv(file_path)\n",
    "\n",
    "cat=visa_df.select_dtypes(include='object').columns\n",
    "num=visa_df.select_dtypes(exclude='object').columns"
   ]
  },
  {
   "cell_type": "markdown",
   "id": "ff1cd1d9-9a8d-40e3-8c78-27f7c78ec9a8",
   "metadata": {},
   "source": [
    "**prevailing_wage**"
   ]
  },
  {
   "cell_type": "code",
   "execution_count": 4,
   "id": "5f8f0357-b825-4c6a-8c81-193de5cd14e3",
   "metadata": {},
   "outputs": [
    {
     "data": {
      "text/plain": [
       "0           592.2029\n",
       "1         83425.6500\n",
       "2        122996.8600\n",
       "3         83434.0300\n",
       "4        149907.3900\n",
       "            ...     \n",
       "25475     77092.5700\n",
       "25476    279174.7900\n",
       "25477    146298.8500\n",
       "25478     86154.7700\n",
       "25479     70876.9100\n",
       "Name: prevailing_wage, Length: 25480, dtype: float64"
      ]
     },
     "execution_count": 4,
     "metadata": {},
     "output_type": "execute_result"
    }
   ],
   "source": [
    "visa_df['prevailing_wage']"
   ]
  },
  {
   "cell_type": "code",
   "execution_count": null,
   "id": "412d5c59-4370-40da-8f0c-36d2fb99702f",
   "metadata": {},
   "outputs": [],
   "source": [
    "- count\n",
    "- min\n",
    "- mean\n",
    "- meadian\n",
    "- max\n",
    "- 25p\n",
    "- 50p\n",
    "- 75p"
   ]
  },
  {
   "cell_type": "code",
   "execution_count": 23,
   "id": "1d3abc9a-2f13-40a5-a2d9-33b082076582",
   "metadata": {},
   "outputs": [],
   "source": [
    "wage_data=visa_df['prevailing_wage']\n",
    "Count=len(wage_data)\n",
    "MIN=round(np.min(wage_data),2)"
   ]
  },
  {
   "cell_type": "code",
   "execution_count": 25,
   "id": "da0a72a0-39e2-4386-9249-a68224fa8e9b",
   "metadata": {},
   "outputs": [],
   "source": [
    "Max=round(np.max(wage_data),2)\n",
    "Mean=round(np.mean(wage_data),2)\n",
    "Median=round(np.median(wage_data),2)"
   ]
  },
  {
   "cell_type": "code",
   "execution_count": 21,
   "id": "9b7f5106-f20b-49de-b573-3be798f0afb4",
   "metadata": {},
   "outputs": [
    {
     "data": {
      "text/html": [
       "<div>\n",
       "<style scoped>\n",
       "    .dataframe tbody tr th:only-of-type {\n",
       "        vertical-align: middle;\n",
       "    }\n",
       "\n",
       "    .dataframe tbody tr th {\n",
       "        vertical-align: top;\n",
       "    }\n",
       "\n",
       "    .dataframe thead th {\n",
       "        text-align: right;\n",
       "    }\n",
       "</style>\n",
       "<table border=\"1\" class=\"dataframe\">\n",
       "  <thead>\n",
       "    <tr style=\"text-align: right;\">\n",
       "      <th></th>\n",
       "      <th>prevailing_wage</th>\n",
       "    </tr>\n",
       "  </thead>\n",
       "  <tbody>\n",
       "    <tr>\n",
       "      <th>Count</th>\n",
       "      <td>25480.000000</td>\n",
       "    </tr>\n",
       "    <tr>\n",
       "      <th>MIN</th>\n",
       "      <td>2.136700</td>\n",
       "    </tr>\n",
       "    <tr>\n",
       "      <th>Max</th>\n",
       "      <td>74455.814592</td>\n",
       "    </tr>\n",
       "    <tr>\n",
       "      <th>Mean</th>\n",
       "      <td>70308.210000</td>\n",
       "    </tr>\n",
       "    <tr>\n",
       "      <th>Median</th>\n",
       "      <td>319210.270000</td>\n",
       "    </tr>\n",
       "  </tbody>\n",
       "</table>\n",
       "</div>"
      ],
      "text/plain": [
       "        prevailing_wage\n",
       "Count      25480.000000\n",
       "MIN            2.136700\n",
       "Max        74455.814592\n",
       "Mean       70308.210000\n",
       "Median    319210.270000"
      ]
     },
     "execution_count": 21,
     "metadata": {},
     "output_type": "execute_result"
    }
   ],
   "source": [
    "index=['Count','MIN','Max','Mean','Median']\n",
    "values=[Count,MIN,Mean,Median,Max]\n",
    "pd.DataFrame(values,index=index,columns=['prevailing_wage'])"
   ]
  },
  {
   "cell_type": "code",
   "execution_count": 29,
   "id": "e4c79774-0d9f-44f5-a833-964e33415ab9",
   "metadata": {},
   "outputs": [],
   "source": [
    "wage_data=visa_df['prevailing_wage']\n",
    "Count=len(wage_data)\n",
    "MIN=round(wage_data.min(),2)\n",
    "Max=round(wage_data,2)\n",
    "Mean=round(wage_data,2)\n",
    "Median=round(wage_data,2)"
   ]
  },
  {
   "cell_type": "markdown",
   "id": "37e475ba-a5d6-4945-9484-3aae9c1be4a3",
   "metadata": {},
   "source": [
    "**percentile-quantile**"
   ]
  },
  {
   "cell_type": "code",
   "execution_count": null,
   "id": "0f42b424-8512-43c5-8f16-81db8a444968",
   "metadata": {},
   "outputs": [],
   "source": [
    "40 p =200\n",
    "40 percentage of total data less than 200\n",
    "\n",
    "\n"
   ]
  },
  {
   "cell_type": "code",
   "execution_count": 32,
   "id": "d577b1b4-efbe-4fa4-9f65-861d5aa0dd5d",
   "metadata": {},
   "outputs": [
    {
     "data": {
      "text/plain": [
       "70308.20999999999"
      ]
     },
     "execution_count": 32,
     "metadata": {},
     "output_type": "execute_result"
    }
   ],
   "source": [
    "np.percentile(wage_data,50)\n"
   ]
  },
  {
   "cell_type": "code",
   "execution_count": 34,
   "id": "1adafc54-1c80-41cd-96d2-b71fe29575c1",
   "metadata": {},
   "outputs": [
    {
     "data": {
      "text/plain": [
       "70308.20999999999"
      ]
     },
     "execution_count": 34,
     "metadata": {},
     "output_type": "execute_result"
    }
   ],
   "source": [
    "np.quantile(wage_data,0.5)"
   ]
  },
  {
   "cell_type": "code",
   "execution_count": 36,
   "id": "11f1b51e-6fc4-41a5-b3cc-74436dfe5eb1",
   "metadata": {},
   "outputs": [
    {
     "data": {
      "text/plain": [
       "70308.20999999999"
      ]
     },
     "execution_count": 36,
     "metadata": {},
     "output_type": "execute_result"
    }
   ],
   "source": [
    "np.median(wage_data)"
   ]
  },
  {
   "cell_type": "code",
   "execution_count": null,
   "id": "751a2993-5da6-4389-90f6-0393be1447e1",
   "metadata": {},
   "outputs": [],
   "source": [
    "50p=70308\n",
    "50 percentage of total data has less than 70308.20\n",
    "50 percentage of 25480 has less than 70309.20\n",
    "12740 applicats has wages less than 70309.20"
   ]
  },
  {
   "cell_type": "code",
   "execution_count": 38,
   "id": "73bebdc6-3edf-41eb-a097-3b5d6a0f66f7",
   "metadata": {},
   "outputs": [
    {
     "data": {
      "text/html": [
       "<div>\n",
       "<style scoped>\n",
       "    .dataframe tbody tr th:only-of-type {\n",
       "        vertical-align: middle;\n",
       "    }\n",
       "\n",
       "    .dataframe tbody tr th {\n",
       "        vertical-align: top;\n",
       "    }\n",
       "\n",
       "    .dataframe thead th {\n",
       "        text-align: right;\n",
       "    }\n",
       "</style>\n",
       "<table border=\"1\" class=\"dataframe\">\n",
       "  <thead>\n",
       "    <tr style=\"text-align: right;\">\n",
       "      <th></th>\n",
       "      <th>case_id</th>\n",
       "      <th>continent</th>\n",
       "      <th>education_of_employee</th>\n",
       "      <th>has_job_experience</th>\n",
       "      <th>requires_job_training</th>\n",
       "      <th>no_of_employees</th>\n",
       "      <th>yr_of_estab</th>\n",
       "      <th>region_of_employment</th>\n",
       "      <th>prevailing_wage</th>\n",
       "      <th>unit_of_wage</th>\n",
       "      <th>full_time_position</th>\n",
       "      <th>case_status</th>\n",
       "    </tr>\n",
       "  </thead>\n",
       "  <tbody>\n",
       "    <tr>\n",
       "      <th>0</th>\n",
       "      <td>EZYV01</td>\n",
       "      <td>Asia</td>\n",
       "      <td>High School</td>\n",
       "      <td>N</td>\n",
       "      <td>N</td>\n",
       "      <td>14513</td>\n",
       "      <td>2007</td>\n",
       "      <td>West</td>\n",
       "      <td>592.2029</td>\n",
       "      <td>Hour</td>\n",
       "      <td>Y</td>\n",
       "      <td>Denied</td>\n",
       "    </tr>\n",
       "    <tr>\n",
       "      <th>6</th>\n",
       "      <td>EZYV07</td>\n",
       "      <td>Asia</td>\n",
       "      <td>Bachelor's</td>\n",
       "      <td>N</td>\n",
       "      <td>N</td>\n",
       "      <td>4985</td>\n",
       "      <td>1994</td>\n",
       "      <td>South</td>\n",
       "      <td>53635.3900</td>\n",
       "      <td>Year</td>\n",
       "      <td>Y</td>\n",
       "      <td>Certified</td>\n",
       "    </tr>\n",
       "    <tr>\n",
       "      <th>7</th>\n",
       "      <td>EZYV08</td>\n",
       "      <td>North America</td>\n",
       "      <td>Bachelor's</td>\n",
       "      <td>Y</td>\n",
       "      <td>N</td>\n",
       "      <td>3035</td>\n",
       "      <td>1924</td>\n",
       "      <td>West</td>\n",
       "      <td>418.2298</td>\n",
       "      <td>Hour</td>\n",
       "      <td>Y</td>\n",
       "      <td>Denied</td>\n",
       "    </tr>\n",
       "    <tr>\n",
       "      <th>9</th>\n",
       "      <td>EZYV10</td>\n",
       "      <td>Europe</td>\n",
       "      <td>Doctorate</td>\n",
       "      <td>Y</td>\n",
       "      <td>N</td>\n",
       "      <td>2251</td>\n",
       "      <td>1995</td>\n",
       "      <td>South</td>\n",
       "      <td>67514.7600</td>\n",
       "      <td>Year</td>\n",
       "      <td>Y</td>\n",
       "      <td>Certified</td>\n",
       "    </tr>\n",
       "    <tr>\n",
       "      <th>12</th>\n",
       "      <td>EZYV13</td>\n",
       "      <td>Asia</td>\n",
       "      <td>Bachelor's</td>\n",
       "      <td>Y</td>\n",
       "      <td>N</td>\n",
       "      <td>123876</td>\n",
       "      <td>1963</td>\n",
       "      <td>Northeast</td>\n",
       "      <td>28663.0500</td>\n",
       "      <td>Year</td>\n",
       "      <td>Y</td>\n",
       "      <td>Certified</td>\n",
       "    </tr>\n",
       "    <tr>\n",
       "      <th>...</th>\n",
       "      <td>...</td>\n",
       "      <td>...</td>\n",
       "      <td>...</td>\n",
       "      <td>...</td>\n",
       "      <td>...</td>\n",
       "      <td>...</td>\n",
       "      <td>...</td>\n",
       "      <td>...</td>\n",
       "      <td>...</td>\n",
       "      <td>...</td>\n",
       "      <td>...</td>\n",
       "      <td>...</td>\n",
       "    </tr>\n",
       "    <tr>\n",
       "      <th>25465</th>\n",
       "      <td>EZYV25466</td>\n",
       "      <td>North America</td>\n",
       "      <td>High School</td>\n",
       "      <td>N</td>\n",
       "      <td>N</td>\n",
       "      <td>2577</td>\n",
       "      <td>1995</td>\n",
       "      <td>South</td>\n",
       "      <td>481.2238</td>\n",
       "      <td>Hour</td>\n",
       "      <td>Y</td>\n",
       "      <td>Certified</td>\n",
       "    </tr>\n",
       "    <tr>\n",
       "      <th>25466</th>\n",
       "      <td>EZYV25467</td>\n",
       "      <td>Europe</td>\n",
       "      <td>Bachelor's</td>\n",
       "      <td>Y</td>\n",
       "      <td>N</td>\n",
       "      <td>1938</td>\n",
       "      <td>2005</td>\n",
       "      <td>West</td>\n",
       "      <td>6973.4000</td>\n",
       "      <td>Year</td>\n",
       "      <td>Y</td>\n",
       "      <td>Denied</td>\n",
       "    </tr>\n",
       "    <tr>\n",
       "      <th>25470</th>\n",
       "      <td>EZYV25471</td>\n",
       "      <td>North America</td>\n",
       "      <td>Master's</td>\n",
       "      <td>Y</td>\n",
       "      <td>N</td>\n",
       "      <td>2272</td>\n",
       "      <td>1970</td>\n",
       "      <td>Northeast</td>\n",
       "      <td>516.4101</td>\n",
       "      <td>Hour</td>\n",
       "      <td>Y</td>\n",
       "      <td>Certified</td>\n",
       "    </tr>\n",
       "    <tr>\n",
       "      <th>25473</th>\n",
       "      <td>EZYV25474</td>\n",
       "      <td>Asia</td>\n",
       "      <td>Bachelor's</td>\n",
       "      <td>Y</td>\n",
       "      <td>N</td>\n",
       "      <td>2421</td>\n",
       "      <td>2007</td>\n",
       "      <td>Northeast</td>\n",
       "      <td>22845.5600</td>\n",
       "      <td>Year</td>\n",
       "      <td>Y</td>\n",
       "      <td>Certified</td>\n",
       "    </tr>\n",
       "    <tr>\n",
       "      <th>25474</th>\n",
       "      <td>EZYV25475</td>\n",
       "      <td>Africa</td>\n",
       "      <td>Doctorate</td>\n",
       "      <td>N</td>\n",
       "      <td>N</td>\n",
       "      <td>2594</td>\n",
       "      <td>1979</td>\n",
       "      <td>Northeast</td>\n",
       "      <td>51104.7800</td>\n",
       "      <td>Year</td>\n",
       "      <td>Y</td>\n",
       "      <td>Certified</td>\n",
       "    </tr>\n",
       "  </tbody>\n",
       "</table>\n",
       "<p>12740 rows × 12 columns</p>\n",
       "</div>"
      ],
      "text/plain": [
       "         case_id      continent education_of_employee has_job_experience  \\\n",
       "0         EZYV01           Asia           High School                  N   \n",
       "6         EZYV07           Asia            Bachelor's                  N   \n",
       "7         EZYV08  North America            Bachelor's                  Y   \n",
       "9         EZYV10         Europe             Doctorate                  Y   \n",
       "12        EZYV13           Asia            Bachelor's                  Y   \n",
       "...          ...            ...                   ...                ...   \n",
       "25465  EZYV25466  North America           High School                  N   \n",
       "25466  EZYV25467         Europe            Bachelor's                  Y   \n",
       "25470  EZYV25471  North America              Master's                  Y   \n",
       "25473  EZYV25474           Asia            Bachelor's                  Y   \n",
       "25474  EZYV25475         Africa             Doctorate                  N   \n",
       "\n",
       "      requires_job_training  no_of_employees  yr_of_estab  \\\n",
       "0                         N            14513         2007   \n",
       "6                         N             4985         1994   \n",
       "7                         N             3035         1924   \n",
       "9                         N             2251         1995   \n",
       "12                        N           123876         1963   \n",
       "...                     ...              ...          ...   \n",
       "25465                     N             2577         1995   \n",
       "25466                     N             1938         2005   \n",
       "25470                     N             2272         1970   \n",
       "25473                     N             2421         2007   \n",
       "25474                     N             2594         1979   \n",
       "\n",
       "      region_of_employment  prevailing_wage unit_of_wage full_time_position  \\\n",
       "0                     West         592.2029         Hour                  Y   \n",
       "6                    South       53635.3900         Year                  Y   \n",
       "7                     West         418.2298         Hour                  Y   \n",
       "9                    South       67514.7600         Year                  Y   \n",
       "12               Northeast       28663.0500         Year                  Y   \n",
       "...                    ...              ...          ...                ...   \n",
       "25465                South         481.2238         Hour                  Y   \n",
       "25466                 West        6973.4000         Year                  Y   \n",
       "25470            Northeast         516.4101         Hour                  Y   \n",
       "25473            Northeast       22845.5600         Year                  Y   \n",
       "25474            Northeast       51104.7800         Year                  Y   \n",
       "\n",
       "      case_status  \n",
       "0          Denied  \n",
       "6       Certified  \n",
       "7          Denied  \n",
       "9       Certified  \n",
       "12      Certified  \n",
       "...           ...  \n",
       "25465   Certified  \n",
       "25466      Denied  \n",
       "25470   Certified  \n",
       "25473   Certified  \n",
       "25474   Certified  \n",
       "\n",
       "[12740 rows x 12 columns]"
      ]
     },
     "execution_count": 38,
     "metadata": {},
     "output_type": "execute_result"
    }
   ],
   "source": [
    "wage_data=visa_df['prevailing_wage']\n",
    "p_50=np.percentile(wage_data,50)\n",
    "con=wage_data<p_50\n",
    "visa_df[con]"
   ]
  },
  {
   "cell_type": "code",
   "execution_count": 40,
   "id": "affe09d9-f430-42da-a4f1-1f8e83240714",
   "metadata": {},
   "outputs": [
    {
     "data": {
      "text/plain": [
       "12740"
      ]
     },
     "execution_count": 40,
     "metadata": {},
     "output_type": "execute_result"
    }
   ],
   "source": [
    "len(visa_df[con])"
   ]
  },
  {
   "cell_type": "code",
   "execution_count": 50,
   "id": "37271897-f638-4f0a-8407-e1f1696ee144",
   "metadata": {},
   "outputs": [
    {
     "data": {
      "text/plain": [
       "True"
      ]
     },
     "execution_count": 50,
     "metadata": {},
     "output_type": "execute_result"
    }
   ],
   "source": [
    "p_75=np.percentile(wage_data,75)\n",
    "con=wage_data<p_75\n",
    "len(visa_df[con])==75*25480/100"
   ]
  },
  {
   "cell_type": "code",
   "execution_count": 52,
   "id": "1ed98654-dcfd-457d-859e-2847658b0d0b",
   "metadata": {},
   "outputs": [
    {
     "data": {
      "text/plain": [
       "True"
      ]
     },
     "execution_count": 52,
     "metadata": {},
     "output_type": "execute_result"
    }
   ],
   "source": [
    "p_25=np.percentile(wage_data,25)\n",
    "con=wage_data<p_25\n",
    "len(visa_df[con])==25*25480/100"
   ]
  },
  {
   "cell_type": "code",
   "execution_count": 58,
   "id": "f26d311a-db9f-4c94-a6a1-234428e9c7e2",
   "metadata": {},
   "outputs": [
    {
     "data": {
      "text/html": [
       "<div>\n",
       "<style scoped>\n",
       "    .dataframe tbody tr th:only-of-type {\n",
       "        vertical-align: middle;\n",
       "    }\n",
       "\n",
       "    .dataframe tbody tr th {\n",
       "        vertical-align: top;\n",
       "    }\n",
       "\n",
       "    .dataframe thead th {\n",
       "        text-align: right;\n",
       "    }\n",
       "</style>\n",
       "<table border=\"1\" class=\"dataframe\">\n",
       "  <thead>\n",
       "    <tr style=\"text-align: right;\">\n",
       "      <th></th>\n",
       "      <th>prevailing_wage</th>\n",
       "    </tr>\n",
       "  </thead>\n",
       "  <tbody>\n",
       "    <tr>\n",
       "      <th>Count</th>\n",
       "      <td>25480.00</td>\n",
       "    </tr>\n",
       "    <tr>\n",
       "      <th>Min</th>\n",
       "      <td>2.14</td>\n",
       "    </tr>\n",
       "    <tr>\n",
       "      <th>Mean</th>\n",
       "      <td>74455.81</td>\n",
       "    </tr>\n",
       "    <tr>\n",
       "      <th>Median</th>\n",
       "      <td>70308.21</td>\n",
       "    </tr>\n",
       "    <tr>\n",
       "      <th>25p</th>\n",
       "      <td>34015.48</td>\n",
       "    </tr>\n",
       "    <tr>\n",
       "      <th>50p</th>\n",
       "      <td>70308.21</td>\n",
       "    </tr>\n",
       "    <tr>\n",
       "      <th>75p</th>\n",
       "      <td>107735.51</td>\n",
       "    </tr>\n",
       "    <tr>\n",
       "      <th>Max</th>\n",
       "      <td>319210.27</td>\n",
       "    </tr>\n",
       "  </tbody>\n",
       "</table>\n",
       "</div>"
      ],
      "text/plain": [
       "        prevailing_wage\n",
       "Count          25480.00\n",
       "Min                2.14\n",
       "Mean           74455.81\n",
       "Median         70308.21\n",
       "25p            34015.48\n",
       "50p            70308.21\n",
       "75p           107735.51\n",
       "Max           319210.27"
      ]
     },
     "execution_count": 58,
     "metadata": {},
     "output_type": "execute_result"
    }
   ],
   "source": [
    "\n",
    "wage_data=visa_df['prevailing_wage']\n",
    "Count=len(wage_data)\n",
    "Min=round(np.min(wage_data),2)\n",
    "Mean=round(np.mean(wage_data),2)\n",
    "Median=round(np.median(wage_data),2)\n",
    "p_25=round(np.percentile(wage_data,25),2)\n",
    "p_50=round(np.percentile(wage_data,50),2)\n",
    "p_75=round(np.percentile(wage_data,75),2)\n",
    "Max=round(np.max(wage_data),2)\n",
    "index=['Count','Min','Mean','Median',\n",
    "      '25p','50p','75p','Max']\n",
    "values=[Count,Min,Mean,Median,p_25,p_50,p_75,Max]\n",
    "pd.DataFrame(values,index=index,columns=['prevailing_wage'])"
   ]
  },
  {
   "cell_type": "code",
   "execution_count": 63,
   "id": "5105baf9-7192-4460-b5af-765515e2b550",
   "metadata": {},
   "outputs": [],
   "source": [
    "l=[]\n",
    "for i in num:\n",
    "    data=visa_df[i]\n",
    "    Count=len(data)\n",
    "    Min=round(np.min(data),2)\n",
    "    Mean=round(np.mean(data),2)\n",
    "    Median=round(np.median(data),2)\n",
    "    p_25=round(np.percentile(data,25),2)\n",
    "    p_50=round(np.percentile(data,50),2)\n",
    "    p_75=round(np.percentile(data,75),2)\n",
    "    Max=round(np.max(data),2)\n",
    "    index=['Count','Min','Mean','Median',\n",
    "          '25p','50p','75p','Max']\n",
    "    values=[Count,Min,Mean,Median,p_25,p_50,p_75,Max]\n",
    "    l.append(values)"
   ]
  },
  {
   "cell_type": "code",
   "execution_count": 65,
   "id": "c6199111-1de8-43e5-b1ad-d8001904772e",
   "metadata": {},
   "outputs": [
    {
     "data": {
      "text/plain": [
       "[[25480, -26, 5667.04, 2109.0, 1022.0, 2109.0, 3504.0, 602069],\n",
       " [25480, 1800, 1979.41, 1997.0, 1976.0, 1997.0, 2005.0, 2016],\n",
       " [25480, 2.14, 74455.81, 70308.21, 34015.48, 70308.21, 107735.51, 319210.27]]"
      ]
     },
     "execution_count": 65,
     "metadata": {},
     "output_type": "execute_result"
    }
   ],
   "source": [
    "l"
   ]
  },
  {
   "cell_type": "code",
   "execution_count": 69,
   "id": "c74f574d-3eda-44d0-bc3d-60b6f4c9b2ec",
   "metadata": {},
   "outputs": [
    {
     "data": {
      "text/html": [
       "<div>\n",
       "<style scoped>\n",
       "    .dataframe tbody tr th:only-of-type {\n",
       "        vertical-align: middle;\n",
       "    }\n",
       "\n",
       "    .dataframe tbody tr th {\n",
       "        vertical-align: top;\n",
       "    }\n",
       "\n",
       "    .dataframe thead th {\n",
       "        text-align: right;\n",
       "    }\n",
       "</style>\n",
       "<table border=\"1\" class=\"dataframe\">\n",
       "  <thead>\n",
       "    <tr style=\"text-align: right;\">\n",
       "      <th></th>\n",
       "      <th>no_of_employees</th>\n",
       "      <th>yr_of_estab</th>\n",
       "      <th>prevailing_wage</th>\n",
       "    </tr>\n",
       "  </thead>\n",
       "  <tbody>\n",
       "    <tr>\n",
       "      <th>Count</th>\n",
       "      <td>25480.00</td>\n",
       "      <td>25480.00</td>\n",
       "      <td>25480.00</td>\n",
       "    </tr>\n",
       "    <tr>\n",
       "      <th>Min</th>\n",
       "      <td>-26.00</td>\n",
       "      <td>1800.00</td>\n",
       "      <td>2.14</td>\n",
       "    </tr>\n",
       "    <tr>\n",
       "      <th>Mean</th>\n",
       "      <td>5667.04</td>\n",
       "      <td>1979.41</td>\n",
       "      <td>74455.81</td>\n",
       "    </tr>\n",
       "    <tr>\n",
       "      <th>Median</th>\n",
       "      <td>2109.00</td>\n",
       "      <td>1997.00</td>\n",
       "      <td>70308.21</td>\n",
       "    </tr>\n",
       "    <tr>\n",
       "      <th>25p</th>\n",
       "      <td>1022.00</td>\n",
       "      <td>1976.00</td>\n",
       "      <td>34015.48</td>\n",
       "    </tr>\n",
       "    <tr>\n",
       "      <th>50p</th>\n",
       "      <td>2109.00</td>\n",
       "      <td>1997.00</td>\n",
       "      <td>70308.21</td>\n",
       "    </tr>\n",
       "    <tr>\n",
       "      <th>75p</th>\n",
       "      <td>3504.00</td>\n",
       "      <td>2005.00</td>\n",
       "      <td>107735.51</td>\n",
       "    </tr>\n",
       "    <tr>\n",
       "      <th>Max</th>\n",
       "      <td>602069.00</td>\n",
       "      <td>2016.00</td>\n",
       "      <td>319210.27</td>\n",
       "    </tr>\n",
       "  </tbody>\n",
       "</table>\n",
       "</div>"
      ],
      "text/plain": [
       "        no_of_employees  yr_of_estab  prevailing_wage\n",
       "Count          25480.00     25480.00         25480.00\n",
       "Min              -26.00      1800.00             2.14\n",
       "Mean            5667.04      1979.41         74455.81\n",
       "Median          2109.00      1997.00         70308.21\n",
       "25p             1022.00      1976.00         34015.48\n",
       "50p             2109.00      1997.00         70308.21\n",
       "75p             3504.00      2005.00        107735.51\n",
       "Max           602069.00      2016.00        319210.27"
      ]
     },
     "execution_count": 69,
     "metadata": {},
     "output_type": "execute_result"
    }
   ],
   "source": [
    "pd.DataFrame(l,index=num,columns=index).T"
   ]
  },
  {
   "cell_type": "code",
   "execution_count": 71,
   "id": "8cd4cf7c-f7ba-4285-b685-a27decefd00c",
   "metadata": {},
   "outputs": [
    {
     "data": {
      "text/html": [
       "<div>\n",
       "<style scoped>\n",
       "    .dataframe tbody tr th:only-of-type {\n",
       "        vertical-align: middle;\n",
       "    }\n",
       "\n",
       "    .dataframe tbody tr th {\n",
       "        vertical-align: top;\n",
       "    }\n",
       "\n",
       "    .dataframe thead th {\n",
       "        text-align: right;\n",
       "    }\n",
       "</style>\n",
       "<table border=\"1\" class=\"dataframe\">\n",
       "  <thead>\n",
       "    <tr style=\"text-align: right;\">\n",
       "      <th></th>\n",
       "      <th>no_of_employees</th>\n",
       "      <th>yr_of_estab</th>\n",
       "      <th>prevailing_wage</th>\n",
       "    </tr>\n",
       "  </thead>\n",
       "  <tbody>\n",
       "    <tr>\n",
       "      <th>count</th>\n",
       "      <td>25480.000000</td>\n",
       "      <td>25480.000000</td>\n",
       "      <td>25480.000000</td>\n",
       "    </tr>\n",
       "    <tr>\n",
       "      <th>mean</th>\n",
       "      <td>5667.043210</td>\n",
       "      <td>1979.409929</td>\n",
       "      <td>74455.814592</td>\n",
       "    </tr>\n",
       "    <tr>\n",
       "      <th>std</th>\n",
       "      <td>22877.928848</td>\n",
       "      <td>42.366929</td>\n",
       "      <td>52815.942327</td>\n",
       "    </tr>\n",
       "    <tr>\n",
       "      <th>min</th>\n",
       "      <td>-26.000000</td>\n",
       "      <td>1800.000000</td>\n",
       "      <td>2.136700</td>\n",
       "    </tr>\n",
       "    <tr>\n",
       "      <th>25%</th>\n",
       "      <td>1022.000000</td>\n",
       "      <td>1976.000000</td>\n",
       "      <td>34015.480000</td>\n",
       "    </tr>\n",
       "    <tr>\n",
       "      <th>50%</th>\n",
       "      <td>2109.000000</td>\n",
       "      <td>1997.000000</td>\n",
       "      <td>70308.210000</td>\n",
       "    </tr>\n",
       "    <tr>\n",
       "      <th>75%</th>\n",
       "      <td>3504.000000</td>\n",
       "      <td>2005.000000</td>\n",
       "      <td>107735.512500</td>\n",
       "    </tr>\n",
       "    <tr>\n",
       "      <th>max</th>\n",
       "      <td>602069.000000</td>\n",
       "      <td>2016.000000</td>\n",
       "      <td>319210.270000</td>\n",
       "    </tr>\n",
       "  </tbody>\n",
       "</table>\n",
       "</div>"
      ],
      "text/plain": [
       "       no_of_employees   yr_of_estab  prevailing_wage\n",
       "count     25480.000000  25480.000000     25480.000000\n",
       "mean       5667.043210   1979.409929     74455.814592\n",
       "std       22877.928848     42.366929     52815.942327\n",
       "min         -26.000000   1800.000000         2.136700\n",
       "25%        1022.000000   1976.000000     34015.480000\n",
       "50%        2109.000000   1997.000000     70308.210000\n",
       "75%        3504.000000   2005.000000    107735.512500\n",
       "max      602069.000000   2016.000000    319210.270000"
      ]
     },
     "execution_count": 71,
     "metadata": {},
     "output_type": "execute_result"
    }
   ],
   "source": [
    "visa_df.describe()"
   ]
  },
  {
   "cell_type": "markdown",
   "id": "c3d587a3-f770-4003-895d-449a4928fe52",
   "metadata": {},
   "source": [
    "**Histogram**"
   ]
  },
  {
   "cell_type": "code",
   "execution_count": 9,
   "id": "2beeb715-e8ce-49a7-8433-0ab642b17a33",
   "metadata": {},
   "outputs": [],
   "source": [
    "wage_data=visa_df['prevailing_wage']"
   ]
  },
  {
   "cell_type": "code",
   "execution_count": 11,
   "id": "859fa41a-e53d-4d46-a923-6a67f8bbf592",
   "metadata": {},
   "outputs": [
    {
     "data": {
      "text/plain": [
       "False"
      ]
     },
     "execution_count": 11,
     "metadata": {},
     "output_type": "execute_result"
    }
   ],
   "source": [
    "wage_data.mean()==wage_data.median()"
   ]
  },
  {
   "cell_type": "markdown",
   "id": "1b73770a-e573-46d4-b28f-042f8fad6176",
   "metadata": {},
   "source": [
    "*Emperical Rule*"
   ]
  },
  {
   "cell_type": "markdown",
   "id": "61554020-4d16-4a0d-9519-678270f4b68b",
   "metadata": {},
   "source": [
    "<img src=\"https://andymath.com/wp-content/uploads/2019/12/empirical-rule-normdist2.jpg\" jsaction=\"\" class=\"sFlh5c FyHeAf iPVvYb\" style=\"max-width: 1338px; height: 195px; margin: 0px; width: 305px;\" alt=\"Normal Distribution Empirical Rule (68-95-99.7 Rule) |\" jsname=\"kn3ccd\">"
   ]
  },
  {
   "cell_type": "code",
   "execution_count": null,
   "id": "10771895-1f6a-478d-8db9-fe957ed13eb8",
   "metadata": {},
   "outputs": [],
   "source": [
    "# u-1*sigma to u+1*sigma the data coverage 68%\n",
    "# step-1: calculate wagemean=u\n",
    "# step-2: calculate std of wage=sigma\n",
    "# step--3: lb=u-1*sigma\n",
    "# step--4: ub=u+1*sigma\n",
    "# step--5: con1=wage_data>lb\n",
    "# step-6: con2=wage_data<ub\n",
    "# step-7: con=con1 & con2\n",
    "# step-8: len(visa_df[con])==68*25480/100"
   ]
  },
  {
   "cell_type": "code",
   "execution_count": 23,
   "id": "cb6bb57c-d5ce-40bb-8a0a-8b3a54527f3d",
   "metadata": {},
   "outputs": [],
   "source": [
    "wage_mean=wage_data.mean()"
   ]
  },
  {
   "cell_type": "code",
   "execution_count": 25,
   "id": "11e7a783-291f-4104-8870-5f0c4edce14e",
   "metadata": {},
   "outputs": [],
   "source": [
    "wage_std=wage_data.std()"
   ]
  },
  {
   "cell_type": "code",
   "execution_count": 27,
   "id": "410cbaa8-5a68-4b47-a3c7-b634e1b33a66",
   "metadata": {},
   "outputs": [],
   "source": [
    "lb=wage_mean-1*wage_std"
   ]
  },
  {
   "cell_type": "code",
   "execution_count": 29,
   "id": "659e0ce9-261f-4867-aad8-3e0acd553a5c",
   "metadata": {},
   "outputs": [],
   "source": [
    "ub=wage_mean+1*wage_std\n"
   ]
  },
  {
   "cell_type": "code",
   "execution_count": 31,
   "id": "2a2cf4e7-c6de-477d-b75f-d4baac0612d6",
   "metadata": {},
   "outputs": [],
   "source": [
    "con1=wage_data>lb"
   ]
  },
  {
   "cell_type": "code",
   "execution_count": 33,
   "id": "e77e9a79-2bd8-4577-895a-9381bb3d6b26",
   "metadata": {},
   "outputs": [],
   "source": [
    "con2=wage_data<ub"
   ]
  },
  {
   "cell_type": "code",
   "execution_count": 35,
   "id": "d144f9dd-c8b5-44c9-acb5-018564584b83",
   "metadata": {},
   "outputs": [],
   "source": [
    "con=con1 & con2"
   ]
  },
  {
   "cell_type": "code",
   "execution_count": 39,
   "id": "1c9bbb36-a954-4127-a9a8-6b9b5edb8eb1",
   "metadata": {},
   "outputs": [
    {
     "data": {
      "text/plain": [
       "False"
      ]
     },
     "execution_count": 39,
     "metadata": {},
     "output_type": "execute_result"
    }
   ],
   "source": [
    "len(visa_df[con])==68*len(visa_df)/100"
   ]
  },
  {
   "cell_type": "code",
   "execution_count": 43,
   "id": "511daf60-81d6-473e-99f6-308af23ca57d",
   "metadata": {},
   "outputs": [
    {
     "name": "stdout",
     "output_type": "stream",
     "text": [
      "False\n"
     ]
    }
   ],
   "source": [
    "def Emperical_rule(k,n):\n",
    "    wage_mean=wage_data.mean()\n",
    "    wage_std=wage_data.std()\n",
    "    lb=wage_mean-k*wage_std\n",
    "    ub=wage_mean+k*wage_std\n",
    "    con1=wage_data>lb\n",
    "    con2=wage_data<ub\n",
    "    con=con1 & con2\n",
    "    print(len(visa_df[con])==68*25480/100)\n",
    "\n",
    "Emperical_rule(3,99.7)"
   ]
  },
  {
   "cell_type": "code",
   "execution_count": 55,
   "id": "94d074f0-bef5-4d1e-8ba9-7fa3a2e3c748",
   "metadata": {},
   "outputs": [
    {
     "data": {
      "text/plain": [
       "(array([6038., 5504., 5681., 4551., 2334.,  624.,  373.,  240.,  114.,\n",
       "          21.]),\n",
       " array([2.13670000e+00, 3.19229500e+04, 6.38437634e+04, 9.57645767e+04,\n",
       "        1.27685390e+05, 1.59606203e+05, 1.91527017e+05, 2.23447830e+05,\n",
       "        2.55368643e+05, 2.87289457e+05, 3.19210270e+05]),\n",
       " <BarContainer object of 10 artists>)"
      ]
     },
     "execution_count": 55,
     "metadata": {},
     "output_type": "execute_result"
    },
    {
     "data": {
      "image/png": "[encoded data removed]",
      "text/plain": [
       "<Figure size 640x480 with 1 Axes>"
      ]
     },
     "metadata": {},
     "output_type": "display_data"
    }
   ],
   "source": [
    "import matplotlib.pyplot as plt\n",
    "plt.hist(wage_data)"
   ]
  },
  {
   "cell_type": "code",
   "execution_count": 75,
   "id": "22066307-3e30-4cc7-b81f-0d6d3712424a",
   "metadata": {},
   "outputs": [
    {
     "data": {
      "text/plain": [
       "(array([2992.,  871., 1005., 1170., 1242., 1434., 1385., 1443., 1444.,\n",
       "        1445., 1457., 1335., 1268., 1217., 1088.,  978.,  807.,  645.,\n",
       "         509.,  373.,  264.,  144.,  105.,  111.,  107.,   99.,   88.,\n",
       "          79.,   65.,   64.,   58.,   53.,   33.,   33.,   29.,   19.,\n",
       "           7.,    3.,    6.,    5.]),\n",
       " array([2.13670000e+00, 7.98234003e+03, 1.59625434e+04, 2.39427467e+04,\n",
       "        3.19229500e+04, 3.99031534e+04, 4.78833567e+04, 5.58635600e+04,\n",
       "        6.38437634e+04, 7.18239667e+04, 7.98041700e+04, 8.77843734e+04,\n",
       "        9.57645767e+04, 1.03744780e+05, 1.11724983e+05, 1.19705187e+05,\n",
       "        1.27685390e+05, 1.35665593e+05, 1.43645797e+05, 1.51626000e+05,\n",
       "        1.59606203e+05, 1.67586407e+05, 1.75566610e+05, 1.83546813e+05,\n",
       "        1.91527017e+05, 1.99507220e+05, 2.07487423e+05, 2.15467627e+05,\n",
       "        2.23447830e+05, 2.31428033e+05, 2.39408237e+05, 2.47388440e+05,\n",
       "        2.55368643e+05, 2.63348847e+05, 2.71329050e+05, 2.79309253e+05,\n",
       "        2.87289457e+05, 2.95269660e+05, 3.03249863e+05, 3.11230067e+05,\n",
       "        3.19210270e+05]),\n",
       " <BarContainer object of 40 artists>)"
      ]
     },
     "execution_count": 75,
     "metadata": {},
     "output_type": "execute_result"
    },
    {
     "data": {
      "image/png": "[encoded data removed]",
      "text/plain": [
       "<Figure size 640x480 with 1 Axes>"
      ]
     },
     "metadata": {},
     "output_type": "display_data"
    }
   ],
   "source": [
    "plt.hist(wage_data,bins=40)"
   ]
  },
  {
   "cell_type": "code",
   "execution_count": 71,
   "id": "c9fe6941-e9bd-4ced-a5b9-9c35f8ce5267",
   "metadata": {},
   "outputs": [
    {
     "data": {
      "text/plain": [
       "2992"
      ]
     },
     "execution_count": 71,
     "metadata": {},
     "output_type": "execute_result"
    }
   ],
   "source": [
    "lb=2.13670000e+00\n",
    "ub=7.98234003e+03\n",
    "con1=wage_data>=lb\n",
    "con2=wage_data<ub\n",
    "con=con1 & con2\n",
    "len(visa_df[con])"
   ]
  },
  {
   "cell_type": "code",
   "execution_count": null,
   "id": "1b35e1cc-06c8-4d26-b6bd-59ca88850945",
   "metadata": {},
   "outputs": [],
   "source": [
    "- Data skewed\n",
    "\n",
    "- Not following normal distribution\n",
    "\n",
    "- means outliers are present\n"
   ]
  },
  {
   "cell_type": "markdown",
   "id": "e2792411-6ff5-4c18-b400-b6ffc4770644",
   "metadata": {},
   "source": [
    "**Outlier Analysis**"
   ]
  },
  {
   "cell_type": "markdown",
   "id": "99a2f398-01c4-4a65-8959-b58e4c8eb939",
   "metadata": {},
   "source": [
    "*box-plot*"
   ]
  },
  {
   "cell_type": "code",
   "execution_count": 83,
   "id": "42627109-1475-43e2-b9da-a399ec241570",
   "metadata": {},
   "outputs": [
    {
     "data": {
      "image/png": "[encoded data removed]",
      "text/plain": [
       "<Figure size 640x480 with 1 Axes>"
      ]
     },
     "metadata": {},
     "output_type": "display_data"
    }
   ],
   "source": [
    "plt.boxplot(wage_data,vert=False)\n",
    "plt.show()"
   ]
  },
  {
   "cell_type": "code",
   "execution_count": 91,
   "id": "223d14f3-1061-4c10-8b04-b82d7a939418",
   "metadata": {},
   "outputs": [
    {
     "data": {
      "image/png": "[encoded data removed]",
      "text/plain": [
       "<Figure size 640x480 with 2 Axes>"
      ]
     },
     "metadata": {},
     "output_type": "display_data"
    }
   ],
   "source": [
    "plt.subplot(2,1,1).hist(wage_data)\n",
    "plt.subplot(2,1,2).boxplot(wage_data,vert=False)\n",
    "plt.show()"
   ]
  },
  {
   "cell_type": "markdown",
   "id": "66065a1c-d49b-46d6-b7c1-b1089bb039c2",
   "metadata": {},
   "source": [
    "**Outlier Data**\n"
   ]
  },
  {
   "cell_type": "code",
   "execution_count": null,
   "id": "a3ebfd1e-dcbb-43c5-b539-adcd8583f9ef",
   "metadata": {},
   "outputs": [],
   "source": [
    "\n",
    "          Q1-1.5IQR   Q1   median  Q3   Q3+1.5IQR\n",
    "                       |-----:-----|\n",
    "       o      |--------|     :     |--------|    o  o\n",
    "                       |-----:-----|\n",
    "     flier             <----------->            fliers\n",
    "                            IQR\n",
    "\n",
    "# step-1: q1\n",
    "# step-2: q3\n",
    "# step-3: IQR=q3-q1\n",
    "# step-4: lb=q1-1.5*IQR\n",
    "# step-5: ub=q3+1.5*IQR\n",
    "# step-6: con1=wage_data<lb\n",
    "# step-7: con2=wage_data>ub\n",
    "# step-8: con=con1 | con2\n",
    "# step-9: outlier_df=visa_df[con]"
   ]
  },
  {
   "cell_type": "code",
   "execution_count": 127,
   "id": "c060c9d2-18be-407e-b8cc-99031ee405fa",
   "metadata": {},
   "outputs": [
    {
     "data": {
      "text/html": [
       "<div>\n",
       "<style scoped>\n",
       "    .dataframe tbody tr th:only-of-type {\n",
       "        vertical-align: middle;\n",
       "    }\n",
       "\n",
       "    .dataframe tbody tr th {\n",
       "        vertical-align: top;\n",
       "    }\n",
       "\n",
       "    .dataframe thead th {\n",
       "        text-align: right;\n",
       "    }\n",
       "</style>\n",
       "<table border=\"1\" class=\"dataframe\">\n",
       "  <thead>\n",
       "    <tr style=\"text-align: right;\">\n",
       "      <th></th>\n",
       "      <th>case_id</th>\n",
       "      <th>continent</th>\n",
       "      <th>education_of_employee</th>\n",
       "      <th>has_job_experience</th>\n",
       "      <th>requires_job_training</th>\n",
       "      <th>no_of_employees</th>\n",
       "      <th>yr_of_estab</th>\n",
       "      <th>region_of_employment</th>\n",
       "      <th>prevailing_wage</th>\n",
       "      <th>unit_of_wage</th>\n",
       "      <th>full_time_position</th>\n",
       "      <th>case_status</th>\n",
       "    </tr>\n",
       "  </thead>\n",
       "  <tbody>\n",
       "    <tr>\n",
       "      <th>14</th>\n",
       "      <td>EZYV15</td>\n",
       "      <td>Asia</td>\n",
       "      <td>Master's</td>\n",
       "      <td>Y</td>\n",
       "      <td>Y</td>\n",
       "      <td>15756</td>\n",
       "      <td>2006</td>\n",
       "      <td>South</td>\n",
       "      <td>220081.73</td>\n",
       "      <td>Year</td>\n",
       "      <td>Y</td>\n",
       "      <td>Certified</td>\n",
       "    </tr>\n",
       "    <tr>\n",
       "      <th>34</th>\n",
       "      <td>EZYV35</td>\n",
       "      <td>Asia</td>\n",
       "      <td>Master's</td>\n",
       "      <td>N</td>\n",
       "      <td>N</td>\n",
       "      <td>1809</td>\n",
       "      <td>2010</td>\n",
       "      <td>South</td>\n",
       "      <td>225569.73</td>\n",
       "      <td>Year</td>\n",
       "      <td>N</td>\n",
       "      <td>Certified</td>\n",
       "    </tr>\n",
       "    <tr>\n",
       "      <th>130</th>\n",
       "      <td>EZYV131</td>\n",
       "      <td>South America</td>\n",
       "      <td>High School</td>\n",
       "      <td>N</td>\n",
       "      <td>N</td>\n",
       "      <td>2554</td>\n",
       "      <td>2005</td>\n",
       "      <td>Midwest</td>\n",
       "      <td>247393.01</td>\n",
       "      <td>Year</td>\n",
       "      <td>Y</td>\n",
       "      <td>Certified</td>\n",
       "    </tr>\n",
       "    <tr>\n",
       "      <th>216</th>\n",
       "      <td>EZYV217</td>\n",
       "      <td>Asia</td>\n",
       "      <td>Master's</td>\n",
       "      <td>Y</td>\n",
       "      <td>N</td>\n",
       "      <td>1515</td>\n",
       "      <td>2001</td>\n",
       "      <td>Midwest</td>\n",
       "      <td>269321.68</td>\n",
       "      <td>Year</td>\n",
       "      <td>N</td>\n",
       "      <td>Certified</td>\n",
       "    </tr>\n",
       "    <tr>\n",
       "      <th>221</th>\n",
       "      <td>EZYV222</td>\n",
       "      <td>North America</td>\n",
       "      <td>Doctorate</td>\n",
       "      <td>Y</td>\n",
       "      <td>Y</td>\n",
       "      <td>2518</td>\n",
       "      <td>2010</td>\n",
       "      <td>South</td>\n",
       "      <td>219529.62</td>\n",
       "      <td>Year</td>\n",
       "      <td>Y</td>\n",
       "      <td>Certified</td>\n",
       "    </tr>\n",
       "    <tr>\n",
       "      <th>...</th>\n",
       "      <td>...</td>\n",
       "      <td>...</td>\n",
       "      <td>...</td>\n",
       "      <td>...</td>\n",
       "      <td>...</td>\n",
       "      <td>...</td>\n",
       "      <td>...</td>\n",
       "      <td>...</td>\n",
       "      <td>...</td>\n",
       "      <td>...</td>\n",
       "      <td>...</td>\n",
       "      <td>...</td>\n",
       "    </tr>\n",
       "    <tr>\n",
       "      <th>25191</th>\n",
       "      <td>EZYV25192</td>\n",
       "      <td>Asia</td>\n",
       "      <td>Master's</td>\n",
       "      <td>N</td>\n",
       "      <td>N</td>\n",
       "      <td>4983</td>\n",
       "      <td>2005</td>\n",
       "      <td>Midwest</td>\n",
       "      <td>280482.51</td>\n",
       "      <td>Year</td>\n",
       "      <td>Y</td>\n",
       "      <td>Denied</td>\n",
       "    </tr>\n",
       "    <tr>\n",
       "      <th>25195</th>\n",
       "      <td>EZYV25196</td>\n",
       "      <td>North America</td>\n",
       "      <td>Master's</td>\n",
       "      <td>Y</td>\n",
       "      <td>N</td>\n",
       "      <td>47</td>\n",
       "      <td>2001</td>\n",
       "      <td>South</td>\n",
       "      <td>234308.77</td>\n",
       "      <td>Year</td>\n",
       "      <td>N</td>\n",
       "      <td>Certified</td>\n",
       "    </tr>\n",
       "    <tr>\n",
       "      <th>25468</th>\n",
       "      <td>EZYV25469</td>\n",
       "      <td>Asia</td>\n",
       "      <td>Bachelor's</td>\n",
       "      <td>N</td>\n",
       "      <td>N</td>\n",
       "      <td>373</td>\n",
       "      <td>2005</td>\n",
       "      <td>Midwest</td>\n",
       "      <td>272715.74</td>\n",
       "      <td>Year</td>\n",
       "      <td>N</td>\n",
       "      <td>Certified</td>\n",
       "    </tr>\n",
       "    <tr>\n",
       "      <th>25469</th>\n",
       "      <td>EZYV25470</td>\n",
       "      <td>North America</td>\n",
       "      <td>Master's</td>\n",
       "      <td>Y</td>\n",
       "      <td>N</td>\n",
       "      <td>2261</td>\n",
       "      <td>1997</td>\n",
       "      <td>Northeast</td>\n",
       "      <td>273772.47</td>\n",
       "      <td>Year</td>\n",
       "      <td>N</td>\n",
       "      <td>Certified</td>\n",
       "    </tr>\n",
       "    <tr>\n",
       "      <th>25476</th>\n",
       "      <td>EZYV25477</td>\n",
       "      <td>Asia</td>\n",
       "      <td>High School</td>\n",
       "      <td>Y</td>\n",
       "      <td>N</td>\n",
       "      <td>3274</td>\n",
       "      <td>2006</td>\n",
       "      <td>Northeast</td>\n",
       "      <td>279174.79</td>\n",
       "      <td>Year</td>\n",
       "      <td>Y</td>\n",
       "      <td>Certified</td>\n",
       "    </tr>\n",
       "  </tbody>\n",
       "</table>\n",
       "<p>427 rows × 12 columns</p>\n",
       "</div>"
      ],
      "text/plain": [
       "         case_id      continent education_of_employee has_job_experience  \\\n",
       "14        EZYV15           Asia              Master's                  Y   \n",
       "34        EZYV35           Asia              Master's                  N   \n",
       "130      EZYV131  South America           High School                  N   \n",
       "216      EZYV217           Asia              Master's                  Y   \n",
       "221      EZYV222  North America             Doctorate                  Y   \n",
       "...          ...            ...                   ...                ...   \n",
       "25191  EZYV25192           Asia              Master's                  N   \n",
       "25195  EZYV25196  North America              Master's                  Y   \n",
       "25468  EZYV25469           Asia            Bachelor's                  N   \n",
       "25469  EZYV25470  North America              Master's                  Y   \n",
       "25476  EZYV25477           Asia           High School                  Y   \n",
       "\n",
       "      requires_job_training  no_of_employees  yr_of_estab  \\\n",
       "14                        Y            15756         2006   \n",
       "34                        N             1809         2010   \n",
       "130                       N             2554         2005   \n",
       "216                       N             1515         2001   \n",
       "221                       Y             2518         2010   \n",
       "...                     ...              ...          ...   \n",
       "25191                     N             4983         2005   \n",
       "25195                     N               47         2001   \n",
       "25468                     N              373         2005   \n",
       "25469                     N             2261         1997   \n",
       "25476                     N             3274         2006   \n",
       "\n",
       "      region_of_employment  prevailing_wage unit_of_wage full_time_position  \\\n",
       "14                   South        220081.73         Year                  Y   \n",
       "34                   South        225569.73         Year                  N   \n",
       "130                Midwest        247393.01         Year                  Y   \n",
       "216                Midwest        269321.68         Year                  N   \n",
       "221                  South        219529.62         Year                  Y   \n",
       "...                    ...              ...          ...                ...   \n",
       "25191              Midwest        280482.51         Year                  Y   \n",
       "25195                South        234308.77         Year                  N   \n",
       "25468              Midwest        272715.74         Year                  N   \n",
       "25469            Northeast        273772.47         Year                  N   \n",
       "25476            Northeast        279174.79         Year                  Y   \n",
       "\n",
       "      case_status  \n",
       "14      Certified  \n",
       "34      Certified  \n",
       "130     Certified  \n",
       "216     Certified  \n",
       "221     Certified  \n",
       "...           ...  \n",
       "25191      Denied  \n",
       "25195   Certified  \n",
       "25468   Certified  \n",
       "25469   Certified  \n",
       "25476   Certified  \n",
       "\n",
       "[427 rows x 12 columns]"
      ]
     },
     "execution_count": 127,
     "metadata": {},
     "output_type": "execute_result"
    }
   ],
   "source": [
    "q1=np.percentile(wage_data,25)\n",
    "q3=np.percentile(wage_data,75)\n",
    "IQR=q3-q1\n",
    "lb=q1-1.5*IQR\n",
    "ub=q3+1.5*IQR\n",
    "con1=wage_data<lb\n",
    "con2=wage_data>ub\n",
    "con=con1 | con2\n",
    "non_outlier_df=visa_df[con]\n",
    "non_outlier_df"
   ]
  },
  {
   "cell_type": "code",
   "execution_count": 119,
   "id": "db22d33b-52af-4d50-93e0-52bca7e3b30b",
   "metadata": {},
   "outputs": [
    {
     "data": {
      "text/plain": [
       "1.6758241758241759"
      ]
     },
     "execution_count": 119,
     "metadata": {},
     "output_type": "execute_result"
    }
   ],
   "source": [
    "(427/25480)*100  #okay to drop <2%"
   ]
  },
  {
   "cell_type": "code",
   "execution_count": 123,
   "id": "678fc53b-1b20-4153-b879-44bd7bb29a3f",
   "metadata": {},
   "outputs": [
    {
     "data": {
      "image/png": "[encoded data removed]",
      "text/plain": [
       "<Figure size 640x480 with 2 Axes>"
      ]
     },
     "metadata": {},
     "output_type": "display_data"
    }
   ],
   "source": [
    "d=non_outlier_df['prevailing_wage']\n",
    "plt.subplot(2,1,1).hist(d)\n",
    "plt.subplot(2,1,2).boxplot(d,vert=False)\n",
    "plt.show()"
   ]
  },
  {
   "cell_type": "markdown",
   "id": "5d3cca07-adea-4553-aac5-2cc218e383fc",
   "metadata": {},
   "source": [
    "**outlier imputation**\n",
    "\n",
    "- Method:1:\n",
    "    - lessthan lb outliers impute with lb value\n",
    "    - greaterthan ub outliers impute with ub value\n",
    "\n",
    "- method:2: Every oultier replace with median"
   ]
  },
  {
   "cell_type": "markdown",
   "id": "cc1cd0a6-4a58-4cb1-a9da-74af5995c542",
   "metadata": {},
   "source": [
    "$cap: Winsorization$"
   ]
  },
  {
   "cell_type": "code",
   "execution_count": 130,
   "id": "4a7dc479-7880-4e0c-a63c-9dcbdc2d2146",
   "metadata": {},
   "outputs": [],
   "source": [
    "l=[]\n",
    "for i in wage_data:\n",
    "    if i<lb:  #oultier\n",
    "        l.append(lb)\n",
    "    elif i>ub:  #oulier\n",
    "        l.append(ub)\n",
    "    else:\n",
    "        l.append(i)\n",
    "\n",
    "visa_df['wage_data_new']=l"
   ]
  },
  {
   "cell_type": "code",
   "execution_count": 133,
   "id": "36d2ec5c-91fd-4c94-bd38-3130b576df04",
   "metadata": {},
   "outputs": [
    {
     "data": {
      "image/png": "[encoded data removed]",
      "text/plain": [
       "<Figure size 640x480 with 2 Axes>"
      ]
     },
     "metadata": {},
     "output_type": "display_data"
    }
   ],
   "source": [
    "d=visa_df['wage_data_new']\n",
    "plt.subplot(2,1,1).hist(d)\n",
    "plt.subplot(2,1,2).boxplot(d,vert=False)\n",
    "plt.show()"
   ]
  },
  {
   "cell_type": "code",
   "execution_count": 139,
   "id": "f1f5af9c-857b-43bd-a7b2-a120eb460766",
   "metadata": {},
   "outputs": [
    {
     "data": {
      "text/plain": [
       "0           592.20290\n",
       "1         83425.65000\n",
       "2        122996.86000\n",
       "3         83434.03000\n",
       "4        149907.39000\n",
       "             ...     \n",
       "25475     77092.57000\n",
       "25476    218315.56125\n",
       "25477    146298.85000\n",
       "25478     86154.77000\n",
       "25479     70876.91000\n",
       "Name: prevailing_wage, Length: 25480, dtype: float64"
      ]
     },
     "execution_count": 139,
     "metadata": {},
     "output_type": "execute_result"
    }
   ],
   "source": [
    "visa_df['prevailing_wage'].clip(lb,ub)\n"
   ]
  },
  {
   "cell_type": "code",
   "execution_count": 1,
   "id": "2e1ca9fa-2601-4df4-b961-82a06bfa8c77",
   "metadata": {},
   "outputs": [],
   "source": [
    "import pandas as pd\n",
    "import numpy as np\n",
    "import matplotlib.pyplot as plt\n",
    "import seaborn as sns\n",
    "\n",
    "file_path=r'C:\\Users\\dspra\\Downloads\\visadataset.csv'\n",
    "visa_df=pd.read_csv(file_path)\n",
    "\n",
    "cat=visa_df.select_dtypes(include='object').columns\n",
    "num=visa_df.select_dtypes(exclude='object').columns"
   ]
  },
  {
   "cell_type": "code",
   "execution_count": null,
   "id": "25f7858d-c2e9-46a3-9819-ab94a40eedf7",
   "metadata": {},
   "outputs": [],
   "source": []
  }
 ],
 "metadata": {
  "kernelspec": {
   "display_name": "Python [conda env:base] *",
   "language": "python",
   "name": "conda-base-py"
  },
  "language_info": {
   "codemirror_mode": {
    "name": "ipython",
    "version": 3
   },
   "file_extension": ".py",
   "mimetype": "text/x-python",
   "name": "python",
   "nbconvert_exporter": "python",
   "pygments_lexer": "ipython3",
   "version": "3.12.7"
  }
 },
 "nbformat": 4,
 "nbformat_minor": 5
}
